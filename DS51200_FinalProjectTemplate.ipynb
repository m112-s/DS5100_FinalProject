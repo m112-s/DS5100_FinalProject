{
 "cells": [
  {
   "cell_type": "markdown",
   "id": "45762487-d33f-486d-8e38-2cdea04e3528",
   "metadata": {},
   "source": [
    "# Final Project Report\n",
    "\n",
    "* Class: DS 5100\n",
    "* Student Name: Manav Sheth\n",
    "* Student Net ID: gfw8hq\n",
    "* This URL: https://github.com/m112-s/DS5100_FinalProject/blob/main/DS51200_FinalProjectTemplate.ipynb"
   ]
  },
  {
   "cell_type": "markdown",
   "id": "acf756c1-ecaa-41dc-b6ca-d566eb94560b",
   "metadata": {},
   "source": [
    "# Instructions\n",
    "\n",
    "Follow the instructions in the Final Project isntructions notebook and put evidence of your work in this notebook.\n",
    "\n",
    "Total points for each subsection under **Deliverables** and **Scenarios** are given in parentheses.\n",
    "\n",
    "Breakdowns of points within subsections are specified within subsection instructions as bulleted lists.\n",
    "\n",
    "This project is worth **50 points**."
   ]
  },
  {
   "cell_type": "markdown",
   "id": "89dc7a32-f682-4402-8c1e-b6ccdb3e0e39",
   "metadata": {},
   "source": [
    "# Deliverables"
   ]
  },
  {
   "cell_type": "markdown",
   "id": "d32cb273-9a40-4909-a7ce-51f6e4958d3c",
   "metadata": {},
   "source": [
    "## The Monte Carlo Module (10)\n",
    "\n",
    "- URL included, appropriately named (1).\n",
    "- Includes all three specified classes (3).\n",
    "- Includes at least all 12 specified methods (6; .5 each)."
   ]
  },
  {
   "cell_type": "markdown",
   "id": "f5f3b070-de9e-4de9-bfae-8974d184aa28",
   "metadata": {},
   "source": [
    "Put the URL to your GitHub repo here.\n",
    "\n",
    "Repo URL:https://github.com/m112-s/DS5100_FinalProject/tree/main"
   ]
  },
  {
   "cell_type": "markdown",
   "id": "162370fb-3729-4c85-b040-8c25b2c966d2",
   "metadata": {},
   "source": [
    "Paste a copyy of your module here.\n",
    "\n",
    "NOTE: Paste as text, not as code. Use triple backticks to wrap your code blocks."
   ]
  },
  {
   "cell_type": "code",
   "execution_count": 1,
   "id": "a0743efc-a785-4b5c-a9e6-b65d4507a67f",
   "metadata": {},
   "outputs": [
    {
     "data": {
      "text/plain": [
       "'\\nimport numpy as np\\nimport pandas as pd\\n\\nclass Die:\\n    \\'\\'\\'\\n    Class for creating a Die object with N sides and W weights, default weights = 1 \\n    \\'\\'\\'\\n    def __init__(self, faces: np.ndarray):\\n        \\'\\'\\'\\n        input: numpy array of face values \\n        Method to initialize the Die, checking for incorrect inputs and giving initial weights\\n        output: faces and initial weight in a private dataframe, faces in the index \\n        \\'\\'\\'\\n        \\n        # Check Numpy array\\n        if not isinstance(faces, np.ndarray):\\n            raise TypeError(\"Faces not a NumPy array\")\\n        \\n        # Check faces for duplicate values \\n        if len(np.unique(faces)) != len(faces):\\n            raise ValueError(\"Die faces not distinct\")\\n        \\n        # Initialize faces with weights = 1 \\n        self._df = pd.DataFrame({\\n            \\'weight\\': np.ones(len(faces))\\n        }, index=faces)\\n        \\n    def change_weight_one_side(self, face, new_weight):\\n        \\'\\'\\'\\n        input: face value and new weight (must be numeric) \\n        Method for chaning an individual face to a new weight. Checks if face is valid and weight is number \\n        output: a dataframe with a replaced weight for specified face \\n        \\'\\'\\'\\n        # Check if face is valid\\n        if face not in self._df.index:\\n            raise IndexError(\"Face value not valid\")\\n        \\n        # Check if new_weight is numeric\\n        try:\\n            new_weight = float(new_weight)\\n        except (TypeError, ValueError):\\n            raise TypeError(\"Weight must be a numeric type\")\\n        \\n        # Set weights as called in method\\n        self._df.at[face, \\'weight\\'] = new_weight\\n        \\n    def roll_die(self, num_rolls=1):\\n        \\'\\'\\'\\n        input: number of rolls (not required) \\n        Method for rolling a die an x number of times\\n        output: copy of private die dataframe \\n        \\'\\'\\'\\n        #Create random choice of faces based on weight \\n        outcomes = np.random.choice(\\n            self._df.index,\\n            size=num_rolls,\\n            replace=True, #Allow for dupllicates \\n            p=self._df[\\'weight\\'] / self._df[\\'weight\\'].sum() \\n        )\\n        return outcomes.tolist()\\n\\n    def current_state(self):\\n        \\'\\'\\'\\n        Method for providing the current state of a die\\'s weights \\n        \\'\\'\\'\\n        return self._df.copy()\\n\\n    def __repr__(self):\\n        \\'\\'\\'\\n        Method to help build function by providing printed outputs \\n        \\'\\'\\'\\n        return self._df.to_string()\\n\\n    \\nclass Game:\\n    \\'\\'\\'\\n    Class for creating a game object with 1 or more dice used  \\n    \\'\\'\\'\\n    def __init__(self, dice):\\n        \\'\\'\\'\\n        input: List of dice objects \\n        Method to initialize game with dice, also check for any incorrect inputs   \\n    \\n        \\'\\'\\'\\n        \\n        # Make sure all dice used are the correct object type \\n        for i in dice:\\n            if not isinstance(i, Die):\\n                raise ValueError(\"Input contains at least 1 non Die object\")\\n        \\n        #Make sure all faces of each die are the exact same \\n        first_die = set(dice[0].current_state().index)\\n        for i in dice:\\n            if set(i.current_state().index) != first_die:\\n                raise ValueError(\"All dice must have the same set of faces\")\\n\\n        self._dice = dice\\n        self._play_results = None\\n\\n    def play(self, num_rolls):\\n        \\'\\'\\'\\n        input: number for number of rolls \\n        \\n        Method for playing all dice an x number of rolls and creating a dataframe of results \\n        \\n        output: \"wide\" data frame of play results. \\n        \\'\\'\\'\\n        results = {}\\n\\n        for i, die in enumerate(self._dice):\\n            results[i] = die.roll_die(num_rolls)\\n\\n        self._play_results = pd.DataFrame(results)\\n        self._play_results.index.name = \"Roll Number\" \\n\\n    def show_results(self, form=\\'wide\\'):\\n        \\'\\'\\'\\n        input: form type (wide or narrow) \\n        \\n        Method for choosing how to show results and showing the results\\n        \\n        output: results in specified format \\n        \\'\\'\\'\\n        if self._play_results is None:\\n            return None\\n        \\n        if form == \\'wide\\':\\n            return self._play_results.copy()\\n        elif form == \\'narrow\\':\\n            return self._play_results.stack().to_frame(\\'Outcome\\')\\n        else:\\n            raise ValueError(\"Not expected either of expected values, \\'wide\\' or \\'narrow\\'.\")\\n\\nclass Analyzer:\\n    \\'\\'\\'\\n    Class for deriving analytics on each game object run \\n    \\'\\'\\'\\n    def __init__(self, game):\\n        \\'\\'\\'\\n        input: game object \\n        Initializing the analysis for a specific game type created\\n        Checks if input is a game and if the game has been played \\n\\n        \\'\\'\\'\\n        if not isinstance(game, Game):\\n            raise ValueError(\"Input must be Game\")\\n        \\n        self._game = game\\n        self._results = game.show_results(form=\\'wide\\')\\n        \\n        if self._results is None:\\n            raise ValueError(\"The Game has no results\")\\n\\n    def jackpot(self):\\n        \\'\\'\\'\\n        Method for checking for a jackpot\\n        output: returns an integer for number of \"jackpots\" \\n        \\'\\'\\'\\n        return (self._results.nunique(axis=1) == 1).sum()\\n\\n    def face_counts_per_roll(self):\\n        \\'\\'\\'\\n        Method for checking counts of a number per roll\\n        output: Data frame with an index of roll number and face values as columns and count values in cells \\n        \\'\\'\\'\\n        all_faces = pd.unique(self._results.values.ravel()) \\n        counts = self._results.apply(lambda row: row.value_counts(), axis=1).fillna(0)\\n        return counts.reindex(columns=sorted(all_faces)).astype(int)\\n\\n    def combo_count(self):\\n        \\'\\'\\'\\n        Method for listing out all combinations of numbers (order does not matter) \\n        output: a MultiIndex of distinct combinations and a column for the associated counts\\n        \\'\\'\\'\\n        combos = self._results.apply(lambda row: tuple(sorted(row)), axis=1)\\n        combo_counts = combos.value_counts()\\n        return combo_counts.to_frame(name=\\'Count\\')\\n\\n    def permutation_count(self):\\n        \\'\\'\\'\\n        Method for listing out all combinations of numbers (order matters) \\n        output: data frame wiht a MultiIndex of distinct permutations and a column for the associated counts\\n        \\'\\'\\'\\n        perms = self._results.apply(lambda row: tuple(row), axis=1)\\n        perm_counts = perms.value_counts()\\n        return perm_counts.to_frame(name=\\'Count\\')\\n\\n\\n \\n'"
      ]
     },
     "execution_count": 1,
     "metadata": {},
     "output_type": "execute_result"
    }
   ],
   "source": [
    "# A code block with your classes.\n",
    "\n",
    "\"\"\"\n",
    "import numpy as np\n",
    "import pandas as pd\n",
    "\n",
    "class Die:\n",
    "    '''\n",
    "    Class for creating a Die object with N sides and W weights, default weights = 1 \n",
    "    '''\n",
    "    def __init__(self, faces: np.ndarray):\n",
    "        '''\n",
    "        input: numpy array of face values \n",
    "        Method to initialize the Die, checking for incorrect inputs and giving initial weights\n",
    "        output: faces and initial weight in a private dataframe, faces in the index \n",
    "        '''\n",
    "        \n",
    "        # Check Numpy array\n",
    "        if not isinstance(faces, np.ndarray):\n",
    "            raise TypeError(\"Faces not a NumPy array\")\n",
    "        \n",
    "        # Check faces for duplicate values \n",
    "        if len(np.unique(faces)) != len(faces):\n",
    "            raise ValueError(\"Die faces not distinct\")\n",
    "        \n",
    "        # Initialize faces with weights = 1 \n",
    "        self._df = pd.DataFrame({\n",
    "            'weight': np.ones(len(faces))\n",
    "        }, index=faces)\n",
    "        \n",
    "    def change_weight_one_side(self, face, new_weight):\n",
    "        '''\n",
    "        input: face value and new weight (must be numeric) \n",
    "        Method for chaning an individual face to a new weight. Checks if face is valid and weight is number \n",
    "        output: a dataframe with a replaced weight for specified face \n",
    "        '''\n",
    "        # Check if face is valid\n",
    "        if face not in self._df.index:\n",
    "            raise IndexError(\"Face value not valid\")\n",
    "        \n",
    "        # Check if new_weight is numeric\n",
    "        try:\n",
    "            new_weight = float(new_weight)\n",
    "        except (TypeError, ValueError):\n",
    "            raise TypeError(\"Weight must be a numeric type\")\n",
    "        \n",
    "        # Set weights as called in method\n",
    "        self._df.at[face, 'weight'] = new_weight\n",
    "        \n",
    "    def roll_die(self, num_rolls=1):\n",
    "        '''\n",
    "        input: number of rolls (not required) \n",
    "        Method for rolling a die an x number of times\n",
    "        output: copy of private die dataframe \n",
    "        '''\n",
    "        #Create random choice of faces based on weight \n",
    "        outcomes = np.random.choice(\n",
    "            self._df.index,\n",
    "            size=num_rolls,\n",
    "            replace=True, #Allow for dupllicates \n",
    "            p=self._df['weight'] / self._df['weight'].sum() \n",
    "        )\n",
    "        return outcomes.tolist()\n",
    "\n",
    "    def current_state(self):\n",
    "        '''\n",
    "        Method for providing the current state of a die's weights \n",
    "        '''\n",
    "        return self._df.copy()\n",
    "\n",
    "    def __repr__(self):\n",
    "        '''\n",
    "        Method to help build function by providing printed outputs \n",
    "        '''\n",
    "        return self._df.to_string()\n",
    "\n",
    "    \n",
    "class Game:\n",
    "    '''\n",
    "    Class for creating a game object with 1 or more dice used  \n",
    "    '''\n",
    "    def __init__(self, dice):\n",
    "        '''\n",
    "        input: List of dice objects \n",
    "        Method to initialize game with dice, also check for any incorrect inputs   \n",
    "    \n",
    "        '''\n",
    "        \n",
    "        # Make sure all dice used are the correct object type \n",
    "        for i in dice:\n",
    "            if not isinstance(i, Die):\n",
    "                raise ValueError(\"Input contains at least 1 non Die object\")\n",
    "        \n",
    "        #Make sure all faces of each die are the exact same \n",
    "        first_die = set(dice[0].current_state().index)\n",
    "        for i in dice:\n",
    "            if set(i.current_state().index) != first_die:\n",
    "                raise ValueError(\"All dice must have the same set of faces\")\n",
    "\n",
    "        self._dice = dice\n",
    "        self._play_results = None\n",
    "\n",
    "    def play(self, num_rolls):\n",
    "        '''\n",
    "        input: number for number of rolls \n",
    "        \n",
    "        Method for playing all dice an x number of rolls and creating a dataframe of results \n",
    "        \n",
    "        output: \"wide\" data frame of play results. \n",
    "        '''\n",
    "        results = {}\n",
    "\n",
    "        for i, die in enumerate(self._dice):\n",
    "            results[i] = die.roll_die(num_rolls)\n",
    "\n",
    "        self._play_results = pd.DataFrame(results)\n",
    "        self._play_results.index.name = \"Roll Number\" \n",
    "\n",
    "    def show_results(self, form='wide'):\n",
    "        '''\n",
    "        input: form type (wide or narrow) \n",
    "        \n",
    "        Method for choosing how to show results and showing the results\n",
    "        \n",
    "        output: results in specified format \n",
    "        '''\n",
    "        if self._play_results is None:\n",
    "            return None\n",
    "        \n",
    "        if form == 'wide':\n",
    "            return self._play_results.copy()\n",
    "        elif form == 'narrow':\n",
    "            return self._play_results.stack().to_frame('Outcome')\n",
    "        else:\n",
    "            raise ValueError(\"Not expected either of expected values, 'wide' or 'narrow'.\")\n",
    "\n",
    "class Analyzer:\n",
    "    '''\n",
    "    Class for deriving analytics on each game object run \n",
    "    '''\n",
    "    def __init__(self, game):\n",
    "        '''\n",
    "        input: game object \n",
    "        Initializing the analysis for a specific game type created\n",
    "        Checks if input is a game and if the game has been played \n",
    "\n",
    "        '''\n",
    "        if not isinstance(game, Game):\n",
    "            raise ValueError(\"Input must be Game\")\n",
    "        \n",
    "        self._game = game\n",
    "        self._results = game.show_results(form='wide')\n",
    "        \n",
    "        if self._results is None:\n",
    "            raise ValueError(\"The Game has no results\")\n",
    "\n",
    "    def jackpot(self):\n",
    "        '''\n",
    "        Method for checking for a jackpot\n",
    "        output: returns an integer for number of \"jackpots\" \n",
    "        '''\n",
    "        return (self._results.nunique(axis=1) == 1).sum()\n",
    "\n",
    "    def face_counts_per_roll(self):\n",
    "        '''\n",
    "        Method for checking counts of a number per roll\n",
    "        output: Data frame with an index of roll number and face values as columns and count values in cells \n",
    "        '''\n",
    "        all_faces = pd.unique(self._results.values.ravel()) \n",
    "        counts = self._results.apply(lambda row: row.value_counts(), axis=1).fillna(0)\n",
    "        return counts.reindex(columns=sorted(all_faces)).astype(int)\n",
    "\n",
    "    def combo_count(self):\n",
    "        '''\n",
    "        Method for listing out all combinations of numbers (order does not matter) \n",
    "        output: a MultiIndex of distinct combinations and a column for the associated counts\n",
    "        '''\n",
    "        combos = self._results.apply(lambda row: tuple(sorted(row)), axis=1)\n",
    "        combo_counts = combos.value_counts()\n",
    "        return combo_counts.to_frame(name='Count')\n",
    "\n",
    "    def permutation_count(self):\n",
    "        '''\n",
    "        Method for listing out all combinations of numbers (order matters) \n",
    "        output: data frame wiht a MultiIndex of distinct permutations and a column for the associated counts\n",
    "        '''\n",
    "        perms = self._results.apply(lambda row: tuple(row), axis=1)\n",
    "        perm_counts = perms.value_counts()\n",
    "        return perm_counts.to_frame(name='Count')\n",
    "\n",
    "\n",
    " \n",
    "\"\"\""
   ]
  },
  {
   "cell_type": "markdown",
   "id": "6377727a-8f0a-491e-9f1c-d9dc225edd35",
   "metadata": {},
   "source": [
    "## Unitest Module (2)\n",
    "\n",
    "Paste a copy of your test module below.\n",
    "\n",
    "NOTE: Paste as text, not as code. Use triple backticks to wrap your code blocks.\n",
    "\n",
    "- All methods have at least one test method (1).\n",
    "- Each method employs one of Unittest's Assert methods (1)."
   ]
  },
  {
   "cell_type": "code",
   "execution_count": 2,
   "id": "14b878d8-258b-4cf2-ad88-b8ee90d43977",
   "metadata": {
    "tags": []
   },
   "outputs": [
    {
     "data": {
      "text/plain": [
       "'\\nimport unittest\\nimport numpy as np\\nimport pandas as pd\\nfrom montecarlo import Die\\nfrom montecarlo import Game\\nfrom montecarlo import Analyzer\\n\\nclass TestMonteCarlo(unittest.TestCase):\\n    \\n    def setUp(self):\\n        self.faces = np.array([1,2,3,4,5,6,7,8,9,10])\\n        self.die1 = Die(self.faces)\\n        self.die2 = Die(self.faces)\\n        self.die3 = Die(self.faces)\\n        \\n        self.die1.change_weight_one_side(10, 10)        \\n        self.die2.change_weight_one_side(2, 2.0)\\n        self.die3.change_weight_one_side(3, 3)\\n        \\n        self.game = Game([self.die1, self.die2, self.die3])\\n        self.game.play(5)\\n        self.analyzer = Analyzer(self.game)\\n\\n    def test_die_init_valid(self):\\n        self.assertTrue(len(self.die1.current_state()) == 10)\\n\\n    def test_die_init_invalid(self):\\n        with self.assertRaises(TypeError):\\n            Die([1, 2, 3])  # not a NumPy array\\n\\n    def test_die_init_duplicate_faces(self):\\n        with self.assertRaises(ValueError):\\n            Die(np.array([1, 1, 1]))  \\n\\n    def test_die_change_weight_valid(self):\\n        self.die1.change_weight_one_side(1, 2.5)\\n        actual = self.die1.current_state().loc[1, \\'weight\\']\\n        self.assertTrue(actual == 2.5)\\n\\n    def test_die_change_weight_invalid(self):\\n        with self.assertRaises(TypeError):\\n            self.die1.change_weight_one_side(2, \"high\")  \\n\\n    def test_die_roll_die(self):\\n        rolls = self.die1.roll_die(3)\\n        self.assertTrue(isinstance(rolls, list))\\n        self.assertTrue(len(rolls) == 3)\\n\\n    def test_die_current_state(self):\\n        df = self.die1.current_state()\\n        self.assertTrue(\\'weight\\' in df.columns)\\n        self.assertFalse(df.empty)\\n        \\n    def test_game_init_valid(self):\\n        self.assertTrue(isinstance(self.game, Game))\\n        self.assertTrue(hasattr(self.game, \\'_dice\\'))\\n        self.assertEqual(len(self.game._dice), 3)\\n\\n    def test_game_init_invalid_die_type(self):\\n        with self.assertRaises(ValueError):\\n            Game([self.die1, 1001, self.die3])\\n\\n    def test_game_init_invalid_face_mismatch(self):\\n        die_mismatch = Die(np.array([\\'a\\', \\'b\\', \\'c\\']))\\n        with self.assertRaises(ValueError):\\n            Game([self.die1, die_mismatch])\\n\\n    def test_game_play_shape(self):\\n        self.game.play(4)\\n        df = self.game.show_results()\\n        self.assertTrue(df.shape == (4, 3)) \\n\\n    def test_game_show_results_wide(self):\\n        self.game.play(2)\\n        result = self.game.show_results(form=\\'wide\\')\\n        self.assertTrue(isinstance(result, pd.DataFrame))\\n        self.assertEqual(result.shape, (2, 3))\\n\\n    def test_game_show_results_narrow(self):\\n        self.game.play(2)\\n        result = self.game.show_results(form=\\'narrow\\')\\n        self.assertTrue(isinstance(result.index, pd.MultiIndex))\\n\\n    def test_show_results_invalid_format(self):\\n        self.game.play(1)\\n        with self.assertRaises(ValueError):\\n            self.game.show_results(form=1001)\\n            \\n    def test_analyzer_init_with_invalid_game(self):\\n        with self.assertRaises(ValueError):\\n            Analyzer(\"not_a_game\")\\n            \\n    def test_analyzer_init_with_unplayed_game(self):\\n        game = Game([self.die1, self.die2, self.die3])\\n        with self.assertRaises(ValueError):\\n            Analyzer(game) \\n            \\n    def test_analyzer_jackpot(self):\\n        jackpots = self.analyzer.jackpot()\\n        self.assertTrue(jackpots >= 0)\\n\\n    def test_analyzer_face_counts_per_roll(self):\\n        df = self.analyzer.face_counts_per_roll()\\n        self.assertTrue(isinstance(df, pd.DataFrame))\\n        self.assertEqual(df.shape[0], 5)  \\n        self.assertTrue((df.sum(axis=1) == 3).all()) \\n\\n    def test_analyzer_combo_count(self):\\n        df = self.analyzer.combo_count()\\n        self.assertTrue(isinstance(df, pd.DataFrame))\\n        self.assertEqual(df.columns.tolist(), [\\'Count\\'])\\n        self.assertTrue(isinstance(df.index[0], tuple))\\n\\n    def test_analyzer_permutation_count(self):\\n        df = self.analyzer.permutation_count()\\n        self.assertTrue(isinstance(df, pd.DataFrame))\\n        self.assertEqual(df.columns.tolist(), [\\'Count\\'])\\n        self.assertTrue(isinstance(df.index[0], tuple))\\n\\n\\nif __name__ == \\'__main__\\':\\n    unittest.main()\\n\\n'"
      ]
     },
     "execution_count": 2,
     "metadata": {},
     "output_type": "execute_result"
    }
   ],
   "source": [
    "# A code block with your test code.\n",
    "\"\"\"\n",
    "import unittest\n",
    "import numpy as np\n",
    "import pandas as pd\n",
    "from montecarlo import Die\n",
    "from montecarlo import Game\n",
    "from montecarlo import Analyzer\n",
    "\n",
    "class TestMonteCarlo(unittest.TestCase):\n",
    "    \n",
    "    def setUp(self):\n",
    "        self.faces = np.array([1,2,3,4,5,6,7,8,9,10])\n",
    "        self.die1 = Die(self.faces)\n",
    "        self.die2 = Die(self.faces)\n",
    "        self.die3 = Die(self.faces)\n",
    "        \n",
    "        self.die1.change_weight_one_side(10, 10)        \n",
    "        self.die2.change_weight_one_side(2, 2.0)\n",
    "        self.die3.change_weight_one_side(3, 3)\n",
    "        \n",
    "        self.game = Game([self.die1, self.die2, self.die3])\n",
    "        self.game.play(5)\n",
    "        self.analyzer = Analyzer(self.game)\n",
    "\n",
    "    def test_die_init_valid(self):\n",
    "        self.assertTrue(len(self.die1.current_state()) == 10)\n",
    "\n",
    "    def test_die_init_invalid(self):\n",
    "        with self.assertRaises(TypeError):\n",
    "            Die([1, 2, 3])  # not a NumPy array\n",
    "\n",
    "    def test_die_init_duplicate_faces(self):\n",
    "        with self.assertRaises(ValueError):\n",
    "            Die(np.array([1, 1, 1]))  \n",
    "\n",
    "    def test_die_change_weight_valid(self):\n",
    "        self.die1.change_weight_one_side(1, 2.5)\n",
    "        actual = self.die1.current_state().loc[1, 'weight']\n",
    "        self.assertTrue(actual == 2.5)\n",
    "\n",
    "    def test_die_change_weight_invalid(self):\n",
    "        with self.assertRaises(TypeError):\n",
    "            self.die1.change_weight_one_side(2, \"high\")  \n",
    "\n",
    "    def test_die_roll_die(self):\n",
    "        rolls = self.die1.roll_die(3)\n",
    "        self.assertTrue(isinstance(rolls, list))\n",
    "        self.assertTrue(len(rolls) == 3)\n",
    "\n",
    "    def test_die_current_state(self):\n",
    "        df = self.die1.current_state()\n",
    "        self.assertTrue('weight' in df.columns)\n",
    "        self.assertFalse(df.empty)\n",
    "        \n",
    "    def test_game_init_valid(self):\n",
    "        self.assertTrue(isinstance(self.game, Game))\n",
    "        self.assertTrue(hasattr(self.game, '_dice'))\n",
    "        self.assertEqual(len(self.game._dice), 3)\n",
    "\n",
    "    def test_game_init_invalid_die_type(self):\n",
    "        with self.assertRaises(ValueError):\n",
    "            Game([self.die1, 1001, self.die3])\n",
    "\n",
    "    def test_game_init_invalid_face_mismatch(self):\n",
    "        die_mismatch = Die(np.array(['a', 'b', 'c']))\n",
    "        with self.assertRaises(ValueError):\n",
    "            Game([self.die1, die_mismatch])\n",
    "\n",
    "    def test_game_play_shape(self):\n",
    "        self.game.play(4)\n",
    "        df = self.game.show_results()\n",
    "        self.assertTrue(df.shape == (4, 3)) \n",
    "\n",
    "    def test_game_show_results_wide(self):\n",
    "        self.game.play(2)\n",
    "        result = self.game.show_results(form='wide')\n",
    "        self.assertTrue(isinstance(result, pd.DataFrame))\n",
    "        self.assertEqual(result.shape, (2, 3))\n",
    "\n",
    "    def test_game_show_results_narrow(self):\n",
    "        self.game.play(2)\n",
    "        result = self.game.show_results(form='narrow')\n",
    "        self.assertTrue(isinstance(result.index, pd.MultiIndex))\n",
    "\n",
    "    def test_show_results_invalid_format(self):\n",
    "        self.game.play(1)\n",
    "        with self.assertRaises(ValueError):\n",
    "            self.game.show_results(form=1001)\n",
    "            \n",
    "    def test_analyzer_init_with_invalid_game(self):\n",
    "        with self.assertRaises(ValueError):\n",
    "            Analyzer(\"not_a_game\")\n",
    "            \n",
    "    def test_analyzer_init_with_unplayed_game(self):\n",
    "        game = Game([self.die1, self.die2, self.die3])\n",
    "        with self.assertRaises(ValueError):\n",
    "            Analyzer(game) \n",
    "            \n",
    "    def test_analyzer_jackpot(self):\n",
    "        jackpots = self.analyzer.jackpot()\n",
    "        self.assertTrue(jackpots >= 0)\n",
    "\n",
    "    def test_analyzer_face_counts_per_roll(self):\n",
    "        df = self.analyzer.face_counts_per_roll()\n",
    "        self.assertTrue(isinstance(df, pd.DataFrame))\n",
    "        self.assertEqual(df.shape[0], 5)  \n",
    "        self.assertTrue((df.sum(axis=1) == 3).all()) \n",
    "\n",
    "    def test_analyzer_combo_count(self):\n",
    "        df = self.analyzer.combo_count()\n",
    "        self.assertTrue(isinstance(df, pd.DataFrame))\n",
    "        self.assertEqual(df.columns.tolist(), ['Count'])\n",
    "        self.assertTrue(isinstance(df.index[0], tuple))\n",
    "\n",
    "    def test_analyzer_permutation_count(self):\n",
    "        df = self.analyzer.permutation_count()\n",
    "        self.assertTrue(isinstance(df, pd.DataFrame))\n",
    "        self.assertEqual(df.columns.tolist(), ['Count'])\n",
    "        self.assertTrue(isinstance(df.index[0], tuple))\n",
    "\n",
    "\n",
    "if __name__ == '__main__':\n",
    "    unittest.main()\n",
    "\n",
    "\"\"\"\n"
   ]
  },
  {
   "cell_type": "markdown",
   "id": "3e058d03-29bc-408f-b36d-0605b4f4b8c0",
   "metadata": {
    "tags": []
   },
   "source": [
    "## Unittest Results (3)\n",
    "\n",
    "Put a copy of the results of running your tests from the command line here.\n",
    "\n",
    "Again, paste as text using triple backticks.\n",
    "\n",
    "- All 12 specified methods return OK (3; .25 each)."
   ]
  },
  {
   "cell_type": "raw",
   "id": "54691fd0-836c-43c7-adc9-4a09d8aa9ab2",
   "metadata": {
    "tags": []
   },
   "source": [
    "# A text block with the output of a successful test.\n",
    "\n",
    "test_analyzer_combo_count (__main__.TestMonteCarlo.test_analyzer_combo_count) ... ok\n",
    "test_analyzer_face_counts_per_roll (__main__.TestMonteCarlo.test_analyzer_face_counts_per_roll) ... ok\n",
    "test_analyzer_init_with_invalid_game (__main__.TestMonteCarlo.test_analyzer_init_with_invalid_game) ... ok\n",
    "test_analyzer_init_with_unplayed_game (__main__.TestMonteCarlo.test_analyzer_init_with_unplayed_game) ... ok\n",
    "test_analyzer_jackpot (__main__.TestMonteCarlo.test_analyzer_jackpot) ... ok\n",
    "test_analyzer_permutation_count (__main__.TestMonteCarlo.test_analyzer_permutation_count) ... ok\n",
    "test_die_change_weight_invalid (__main__.TestMonteCarlo.test_die_change_weight_invalid) ... ok\n",
    "test_die_change_weight_valid (__main__.TestMonteCarlo.test_die_change_weight_valid) ... ok\n",
    "test_die_current_state (__main__.TestMonteCarlo.test_die_current_state) ... ok\n",
    "test_die_init_duplicate_faces (__main__.TestMonteCarlo.test_die_init_duplicate_faces) ... ok\n",
    "test_die_init_invalid (__main__.TestMonteCarlo.test_die_init_invalid) ... ok\n",
    "test_die_init_valid (__main__.TestMonteCarlo.test_die_init_valid) ... ok\n",
    "test_die_roll_die (__main__.TestMonteCarlo.test_die_roll_die) ... ok\n",
    "test_game_init_invalid_die_type (__main__.TestMonteCarlo.test_game_init_invalid_die_type) ... ok\n",
    "test_game_init_invalid_face_mismatch (__main__.TestMonteCarlo.test_game_init_invalid_face_mismatch) ... ok\n",
    "test_game_init_valid (__main__.TestMonteCarlo.test_game_init_valid) ... ok\n",
    "test_game_play_shape (__main__.TestMonteCarlo.test_game_play_shape) ... ok\n",
    "test_game_show_results_narrow (__main__.TestMonteCarlo.test_game_show_results_narrow) ... ok\n",
    "test_game_show_results_wide (__main__.TestMonteCarlo.test_game_show_results_wide) ... ok\n",
    "test_show_results_invalid_format (__main__.TestMonteCarlo.test_show_results_invalid_format) ... ok\n",
    "\n",
    "----------------------------------------------------------------------\n",
    "Ran 20 tests in 0.041s\n",
    "\n",
    "OK"
   ]
  },
  {
   "cell_type": "markdown",
   "id": "d9ffe8c5-eb2f-4ad1-af76-a46550e4c7ac",
   "metadata": {},
   "source": [
    "## Import (1)\n",
    "\n",
    "Import your module here. This import should refer to the code in your package directory.\n",
    "\n",
    "- Module successuflly imported (1)."
   ]
  },
  {
   "cell_type": "code",
   "execution_count": 3,
   "id": "a05dffb3-e6d6-4f78-9df4-5abd0cf74ca9",
   "metadata": {
    "tags": []
   },
   "outputs": [],
   "source": [
    "import montecarlo \n",
    "\n"
   ]
  },
  {
   "cell_type": "markdown",
   "id": "f30c4842-65b1-4556-98b6-3fe1a07e1371",
   "metadata": {},
   "source": [
    "## Help Docs (4)\n",
    "\n",
    "Show your docstring documentation by applying `help()` to your imported module.\n",
    "\n",
    "- All methods have a docstring (3; .25 each).\n",
    "- All classes have a docstring (1; .33 each)."
   ]
  },
  {
   "cell_type": "code",
   "execution_count": 4,
   "id": "bf4fbf1f-9885-471c-a0a6-e9ca90e160de",
   "metadata": {
    "tags": []
   },
   "outputs": [
    {
     "name": "stdout",
     "output_type": "stream",
     "text": [
      "Help on module montecarlo:\n",
      "\n",
      "NAME\n",
      "    montecarlo\n",
      "\n",
      "CLASSES\n",
      "    builtins.object\n",
      "        Analyzer\n",
      "        Die\n",
      "        Game\n",
      "    \n",
      "    class Analyzer(builtins.object)\n",
      "     |  Analyzer(game)\n",
      "     |  \n",
      "     |  Class for deriving analytics on each game object run\n",
      "     |  \n",
      "     |  Methods defined here:\n",
      "     |  \n",
      "     |  __init__(self, game)\n",
      "     |      input: game object \n",
      "     |      Initializing the analysis for a specific game type created\n",
      "     |      Checks if input is a game and if the game has been played\n",
      "     |  \n",
      "     |  combo_count(self)\n",
      "     |      Method for listing out all combinations of numbers (order does not matter) \n",
      "     |      output: a MultiIndex of distinct combinations and a column for the associated counts\n",
      "     |  \n",
      "     |  face_counts_per_roll(self)\n",
      "     |      Method for checking counts of a number per roll\n",
      "     |      output: Data frame with an index of roll number and face values as columns and count values in cells\n",
      "     |  \n",
      "     |  jackpot(self)\n",
      "     |      Method for checking for a jackpot\n",
      "     |      output: returns an integer for number of \"jackpots\"\n",
      "     |  \n",
      "     |  permutation_count(self)\n",
      "     |      Method for listing out all combinations of numbers (order matters) \n",
      "     |      output: data frame wiht a MultiIndex of distinct permutations and a column for the associated counts\n",
      "     |  \n",
      "     |  ----------------------------------------------------------------------\n",
      "     |  Data descriptors defined here:\n",
      "     |  \n",
      "     |  __dict__\n",
      "     |      dictionary for instance variables (if defined)\n",
      "     |  \n",
      "     |  __weakref__\n",
      "     |      list of weak references to the object (if defined)\n",
      "    \n",
      "    class Die(builtins.object)\n",
      "     |  Die(faces: numpy.ndarray)\n",
      "     |  \n",
      "     |  Class for creating a Die object with N sides and W weights, default weights = 1\n",
      "     |  \n",
      "     |  Methods defined here:\n",
      "     |  \n",
      "     |  __init__(self, faces: numpy.ndarray)\n",
      "     |      input: numpy array of face values \n",
      "     |      Method to initialize the Die, checking for incorrect inputs and giving initial weights\n",
      "     |      output: faces and initial weight in a private dataframe, faces in the index\n",
      "     |  \n",
      "     |  __repr__(self)\n",
      "     |      Method to help build function by providing printed outputs\n",
      "     |  \n",
      "     |  change_weight_one_side(self, face, new_weight)\n",
      "     |      input: face value and new weight (must be numeric) \n",
      "     |      Method for chaning an individual face to a new weight. Checks if face is valid and weight is number \n",
      "     |      output: a dataframe with a replaced weight for specified face\n",
      "     |  \n",
      "     |  current_state(self)\n",
      "     |      Method for providing the current state of a die's weights\n",
      "     |  \n",
      "     |  roll_die(self, num_rolls=1)\n",
      "     |      input: number of rolls (not required) \n",
      "     |      Method for rolling a die an x number of times\n",
      "     |      output: copy of private die dataframe\n",
      "     |  \n",
      "     |  ----------------------------------------------------------------------\n",
      "     |  Data descriptors defined here:\n",
      "     |  \n",
      "     |  __dict__\n",
      "     |      dictionary for instance variables (if defined)\n",
      "     |  \n",
      "     |  __weakref__\n",
      "     |      list of weak references to the object (if defined)\n",
      "    \n",
      "    class Game(builtins.object)\n",
      "     |  Game(dice)\n",
      "     |  \n",
      "     |  Class for creating a game object with 1 or more dice used\n",
      "     |  \n",
      "     |  Methods defined here:\n",
      "     |  \n",
      "     |  __init__(self, dice)\n",
      "     |      input: List of dice objects \n",
      "     |      Method to initialize game with dice, also check for any incorrect inputs\n",
      "     |  \n",
      "     |  play(self, num_rolls)\n",
      "     |      input: number for number of rolls \n",
      "     |      \n",
      "     |      Method for playing all dice an x number of rolls and creating a dataframe of results \n",
      "     |      \n",
      "     |      output: \"wide\" data frame of play results.\n",
      "     |  \n",
      "     |  show_results(self, form='wide')\n",
      "     |      input: form type (wide or narrow) \n",
      "     |      \n",
      "     |      Method for choosing how to show results and showing the results\n",
      "     |      \n",
      "     |      output: results in specified format\n",
      "     |  \n",
      "     |  ----------------------------------------------------------------------\n",
      "     |  Data descriptors defined here:\n",
      "     |  \n",
      "     |  __dict__\n",
      "     |      dictionary for instance variables (if defined)\n",
      "     |  \n",
      "     |  __weakref__\n",
      "     |      list of weak references to the object (if defined)\n",
      "\n",
      "FILE\n",
      "    /sfs/gpfs/tardis/home/gfw8hq/Documents/MSDS/DS5100/Final Project/montecarlo.py\n",
      "\n",
      "\n"
     ]
    }
   ],
   "source": [
    "help(montecarlo)"
   ]
  },
  {
   "cell_type": "markdown",
   "id": "a9defa84-b395-4966-bd1c-5c6c2bb7ed68",
   "metadata": {},
   "source": [
    "## `README.md` File (3)\n",
    "\n",
    "Provide link to the README.md file of your project's repo.\n",
    "\n",
    "- Metadata section or info present (1).\n",
    "- Synopsis section showing how each class is called (1). (All must be included.)\n",
    "- API section listing all classes and methods (1). (All must be included.)"
   ]
  },
  {
   "cell_type": "markdown",
   "id": "ee090b33-d593-48a0-bf35-e739cea0942c",
   "metadata": {},
   "source": [
    "URL: https://github.com/m112-s/DS5100_FinalProject/blob/main/README.md"
   ]
  },
  {
   "cell_type": "markdown",
   "id": "108604c8-8827-42ef-ab59-6b25428fc0ca",
   "metadata": {},
   "source": [
    "## Successful installation (2)\n",
    "\n",
    "Put a screenshot or paste a copy of a terminal session where you successfully install your module with pip.\n",
    "\n",
    "If pasting text, use a preformatted text block to show the results.\n",
    "\n",
    "- Installed with `pip` (1).\n",
    "- Successfully installed message appears (1)."
   ]
  },
  {
   "cell_type": "raw",
   "id": "1278db6a-aa53-4e5c-a749-93a87ab239e0",
   "metadata": {},
   "source": [
    "# Pasted code\n",
    "bash-4.4$pip install git+https://github.com/m112-s/DS5100_FinalProject.git\n",
    "Defaulting to user installation because normal site-packages is not writeable\n",
    "Collecting git+https://github.com/m112-s/DS5100_FinalProject.git\n",
    "  Cloning https://github.com/m112-s/DS5100_FinalProject.git to /tmp/pip-req-build-7m1k6d0v\n",
    "  Running command git clone --filter=blob:none --quiet https://github.com/m112-s/DS5100_FinalProject.git /tmp/pip-req-build-7m1k6d0v\n",
    "  Resolved https://github.com/m112-s/DS5100_FinalProject.git to commit 6a98d368c01b6f8ad7a8e255f91bf92742075a24\n",
    "  Preparing metadata (setup.py) ... done\n",
    "Building wheels for collected packages: Monte-Carlo-Project\n",
    "  Building wheel for Monte-Carlo-Project (setup.py) ... done\n",
    "  Created wheel for Monte-Carlo-Project: filename=Monte_Carlo_Project-1-py3-none-any.whl size=2141 sha256=9dee7332e84007e569690af12f42d9e0afb6a34ccaf63f5870e7c85b116c0ca3\n",
    "  Stored in directory: /tmp/pip-ephem-wheel-cache-6y5nublz/wheels/8a/99/de/32a3891137d7415fb07637489f6478136a7c44b13d1c22d303\n",
    "Successfully built Monte-Carlo-Project\n",
    "Installing collected packages: Monte-Carlo-Project\n",
    "Successfully installed Monte-Carlo-Project-1\n",
    "bash-4.4$"
   ]
  },
  {
   "cell_type": "markdown",
   "id": "7c44695d-d1b3-4edf-9f94-e64d7446f199",
   "metadata": {},
   "source": [
    "# Scenarios\n",
    "\n",
    "Use code blocks to perform the tasks for each scenario.\n",
    "\n",
    "Be sure the outputs are visible before submitting."
   ]
  },
  {
   "cell_type": "markdown",
   "id": "e2479eae-6fc9-44cd-b8d7-9b22cb501f2a",
   "metadata": {
    "tags": []
   },
   "source": [
    "## Scenario 1: A 2-headed Coin (9)\n",
    "\n",
    "Task 1. Create a fair coin (with faces $H$ and $T$) and one unfair coin in which one of the faces has a weight of $5$ and the others $1$.\n",
    "\n",
    "- Fair coin created (1).\n",
    "- Unfair coin created with weight as specified (1)."
   ]
  },
  {
   "cell_type": "code",
   "execution_count": 5,
   "id": "55ce498e-c75f-4425-9e3e-b635bd6cd9e1",
   "metadata": {},
   "outputs": [
    {
     "name": "stdout",
     "output_type": "stream",
     "text": [
      "   weight\n",
      "H     1.0\n",
      "T     1.0\n",
      "   weight\n",
      "H     1.0\n",
      "T     5.0\n"
     ]
    }
   ],
   "source": [
    "import numpy as np\n",
    "from montecarlo import Die\n",
    "\n",
    "fair_coin = Die(np.array(['H','T']))\n",
    "\n",
    "unfair_coin = Die(np.array(['H','T']))\n",
    "unfair_coin.change_weight_one_side('T',5)\n",
    "\n",
    "print(fair_coin.current_state())\n",
    "print(unfair_coin.current_state())"
   ]
  },
  {
   "cell_type": "markdown",
   "id": "02b272ab-99da-4b6e-ac2a-555b73e09c07",
   "metadata": {},
   "source": [
    "Task 2. Play a game of $1000$ flips with two fair dice.\n",
    "\n",
    "- Play method called correclty and without error (1)."
   ]
  },
  {
   "cell_type": "code",
   "execution_count": 6,
   "id": "65c92601-d32d-4326-b215-74953aee27f2",
   "metadata": {},
   "outputs": [],
   "source": [
    "from montecarlo import Die\n",
    "from montecarlo import Game\n",
    "from montecarlo import Analyzer\n",
    "\n",
    "task2_fair = Game([fair_coin,fair_coin])\n",
    "\n",
    "Game.play(task2_fair,1000)\n",
    "#Game.show_results(task2_fair)"
   ]
  },
  {
   "cell_type": "markdown",
   "id": "7d9c3dc8-22c1-4cae-81fb-d68d774a05d1",
   "metadata": {},
   "source": [
    "Task 3. Play another game (using a new Game object) of $1000$ flips, this time using two unfair dice and one fair die. For the second unfair die, you can use the same die object twice in the list of dice you pass to the Game object.\n",
    "\n",
    "- New game object created (1).\n",
    "- Play method called correclty and without error (1)."
   ]
  },
  {
   "cell_type": "code",
   "execution_count": 7,
   "id": "d4098bed-1eb2-4084-8d5e-9fda07c3be43",
   "metadata": {},
   "outputs": [],
   "source": [
    "from montecarlo import Die\n",
    "from montecarlo import Game\n",
    "from montecarlo import Analyzer\n",
    "\n",
    "task3_unfair = Game([unfair_coin,unfair_coin,fair_coin])\n",
    "\n",
    "Game.play(task3_unfair,1000)\n",
    "#Game.show_results(task3_unfair)"
   ]
  },
  {
   "cell_type": "markdown",
   "id": "f690ebfc-fe71-4eb2-976d-7ac80ca6c23f",
   "metadata": {},
   "source": [
    "Task 4. For each game, use an Analyzer object to determine the raw frequency of jackpots — i.e. getting either all $H$s or all $T$s.\n",
    "\n",
    "- Analyzer objecs instantiated for both games (1).\n",
    "- Raw frequencies reported for both (1)."
   ]
  },
  {
   "cell_type": "code",
   "execution_count": 8,
   "id": "b26b8b7e-3be7-4476-a9a4-37d97536729e",
   "metadata": {},
   "outputs": [
    {
     "name": "stdout",
     "output_type": "stream",
     "text": [
      "507\n",
      "358\n"
     ]
    }
   ],
   "source": [
    "from montecarlo import Die\n",
    "from montecarlo import Game\n",
    "from montecarlo import Analyzer\n",
    "\n",
    "\n",
    "task4_fair = Analyzer(task2_fair)\n",
    "task4_unfair = Analyzer(task3_unfair)\n",
    "\n",
    "print(Analyzer.jackpot(task4_fair))\n",
    "print(Analyzer.jackpot(task4_unfair))\n",
    "\n"
   ]
  },
  {
   "cell_type": "markdown",
   "id": "b73d233c-445e-40cd-8858-0c5e1f097105",
   "metadata": {},
   "source": [
    "Task 5. For each analyzer, compute relative frequency as the number of jackpots over the total number of rolls.\n",
    "\n",
    "- Both relative frequencies computed (1)."
   ]
  },
  {
   "cell_type": "code",
   "execution_count": 15,
   "id": "9a96b31b-1b9d-496e-be3e-4bf83c45ec3a",
   "metadata": {},
   "outputs": [
    {
     "name": "stdout",
     "output_type": "stream",
     "text": [
      "0.507 0.358\n"
     ]
    }
   ],
   "source": [
    "task5_freq_fair = Analyzer.jackpot(task4_fair)/ len(Game.show_results(task2_fair))\n",
    "\n",
    "task5_freq_unfair = Analyzer.jackpot(task4_unfair)/ len(Game.show_results(task3_unfair))\n",
    "\n",
    "print(task5_freq_fair,task5_freq_unfair)"
   ]
  },
  {
   "cell_type": "markdown",
   "id": "a6e1e734-7f5c-4721-8ba4-2f3a424cf984",
   "metadata": {},
   "source": [
    "Task 6. Show your results, comparing the two relative frequencies, in a simple bar chart.\n",
    "\n",
    "- Bar chart plotted and correct (1)."
   ]
  },
  {
   "cell_type": "code",
   "execution_count": 16,
   "id": "473fa67c-aa53-4aa3-a0b7-e8772b3f6ed3",
   "metadata": {},
   "outputs": [
    {
     "data": {
      "image/png": "[encoded data removed]",
      "text/plain": [
       "<Figure size 640x480 with 1 Axes>"
      ]
     },
     "metadata": {},
     "output_type": "display_data"
    }
   ],
   "source": [
    "import matplotlib.pyplot as plt\n",
    "\n",
    "labels = ['Fair Coin', 'Unfair Coin']\n",
    "values = [task5_freq_fair, task5_freq_unfair]\n",
    "\n",
    "plt.bar(labels, values, color=['blue', 'red'])\n",
    "plt.ylabel('Frequency of Jackpot')\n",
    "plt.title('Coin Type vs Frequency of Jackpot')\n",
    "plt.show()\n"
   ]
  },
  {
   "cell_type": "markdown",
   "id": "725cfa5b-e4b7-47c9-86aa-8d9e1fe6c8c7",
   "metadata": {},
   "source": [
    "## Scenario 2: A 6-sided Die (9)\n",
    "\n",
    "Task 1. Create three dice, each with six sides having the faces 1 through 6.\n",
    "\n",
    "- Three die objects created (1)."
   ]
  },
  {
   "cell_type": "code",
   "execution_count": 19,
   "id": "6a8bc611-325a-4e05-88d5-980e0a2cf7c5",
   "metadata": {},
   "outputs": [
    {
     "name": "stdout",
     "output_type": "stream",
     "text": [
      "   weight\n",
      "1     1.0\n",
      "2     1.0\n",
      "3     1.0\n",
      "4     1.0\n",
      "5     1.0\n",
      "6     1.0\n",
      "   weight\n",
      "1     1.0\n",
      "2     1.0\n",
      "3     1.0\n",
      "4     1.0\n",
      "5     1.0\n",
      "6     1.0\n",
      "   weight\n",
      "1     1.0\n",
      "2     1.0\n",
      "3     1.0\n",
      "4     1.0\n",
      "5     1.0\n",
      "6     1.0\n"
     ]
    }
   ],
   "source": [
    "die1 = Die(np.array([1,2,3,4,5,6]))\n",
    "die2 = Die(np.array([1,2,3,4,5,6]))\n",
    "die3 = Die(np.array([1,2,3,4,5,6]))\n",
    "\n",
    "print(die1.current_state())\n",
    "print(die2.current_state())\n",
    "print(die3.current_state())"
   ]
  },
  {
   "cell_type": "markdown",
   "id": "2ed3ad26-fbe9-43bd-9ad7-f683a4191d12",
   "metadata": {},
   "source": [
    "Task 2. Convert one of the dice to an unfair one by weighting the face $6$ five times more than the other weights (i.e. it has weight of 5 and the others a weight of 1 each).\n",
    "\n",
    "- Unfair die created with proper call to weight change method (1)."
   ]
  },
  {
   "cell_type": "code",
   "execution_count": 21,
   "id": "e33dd18f-7f90-456d-a680-61c08a328e21",
   "metadata": {},
   "outputs": [
    {
     "name": "stdout",
     "output_type": "stream",
     "text": [
      "   weight\n",
      "1     1.0\n",
      "2     1.0\n",
      "3     1.0\n",
      "4     1.0\n",
      "5     1.0\n",
      "6     5.0\n"
     ]
    }
   ],
   "source": [
    "die1.change_weight_one_side(6,5)\n",
    "\n",
    "print(die1.current_state())"
   ]
  },
  {
   "cell_type": "markdown",
   "id": "7f6c062a-4c5b-45b9-96b8-76a0354c7e47",
   "metadata": {},
   "source": [
    "Task 3. Convert another of the dice to be unfair by weighting the face $1$ five times more than the others.\n",
    "\n",
    "- Unfair die created with proper call to weight change method (1)."
   ]
  },
  {
   "cell_type": "code",
   "execution_count": 22,
   "id": "01133a4e-6b06-4246-8d90-8e6d6995be51",
   "metadata": {},
   "outputs": [
    {
     "name": "stdout",
     "output_type": "stream",
     "text": [
      "   weight\n",
      "1     5.0\n",
      "2     1.0\n",
      "3     1.0\n",
      "4     1.0\n",
      "5     1.0\n",
      "6     1.0\n"
     ]
    }
   ],
   "source": [
    "die2.change_weight_one_side(1,5)\n",
    "\n",
    "print(die2.current_state())"
   ]
  },
  {
   "cell_type": "markdown",
   "id": "f0ed31cb-0a3c-4eb2-b85e-6ed6b2eb6e58",
   "metadata": {},
   "source": [
    "Task 4. Play a game of $10000$ rolls with $5$ fair dice.\n",
    "\n",
    "- Game class properly instantiated (1). \n",
    "- Play method called properly (1)."
   ]
  },
  {
   "cell_type": "code",
   "execution_count": 33,
   "id": "e92395a4-9ed8-4cb0-8c85-38768a784ffc",
   "metadata": {},
   "outputs": [],
   "source": [
    "Scenario2_task4_game = Game([die3 for i in range(5)])\n",
    "\n",
    "Game.play(Scenario2_task4_game,10000)\n",
    "#Game.show_results(Scenario2_task4_game)"
   ]
  },
  {
   "cell_type": "markdown",
   "id": "7814b402-46a4-40e5-8141-20e05c3e646b",
   "metadata": {},
   "source": [
    "Task 5. Play another game of $10000$ rolls, this time with $2$ unfair dice, one as defined in steps #2 and #3 respectively, and $3$ fair dice.\n",
    "\n",
    "- Game class properly instantiated (1). \n",
    "- Play method called properly (1)."
   ]
  },
  {
   "cell_type": "code",
   "execution_count": 30,
   "id": "7cd58fba-b2a5-4d5d-bc6d-2a7a68d18c4f",
   "metadata": {},
   "outputs": [],
   "source": [
    "Scenario2_task5_game = Game([die1,die2,die3,die3,die3])\n",
    "\n",
    "Game.play(Scenario2_task5_game,10000)\n",
    "#Game.show_results(Scenario2_task5_game)"
   ]
  },
  {
   "cell_type": "markdown",
   "id": "7b6cd372-2bb8-4df8-ade1-8f48bc300955",
   "metadata": {},
   "source": [
    "Task 6. For each game, use an Analyzer object to determine the relative frequency of jackpots and show your results, comparing the two relative frequencies, in a simple bar chart.\n",
    "\n",
    "- Jackpot methods called (1).\n",
    "- Graph produced (1)."
   ]
  },
  {
   "cell_type": "code",
   "execution_count": 35,
   "id": "bbdcf695-8937-406e-9b53-aa0b9ee3c59a",
   "metadata": {},
   "outputs": [
    {
     "data": {
      "image/png": "[encoded data removed]",
      "text/plain": [
       "<Figure size 640x480 with 1 Axes>"
      ]
     },
     "metadata": {},
     "output_type": "display_data"
    }
   ],
   "source": [
    "Scenario2_fair = Analyzer(Scenario2_task4_game)\n",
    "Scenario2_unfair = Analyzer(Scenario2_task5_game)\n",
    "\n",
    "Scenario2_fair_freq = Analyzer.jackpot(Scenario2_fair)/ len(Game.show_results(Scenario2_task4_game))\n",
    "\n",
    "Scenario2_unfair_freq = Analyzer.jackpot(Scenario2_unfair)/ len(Game.show_results(Scenario2_task5_game))\n",
    "\n",
    "\n",
    "labels = ['Fair Die', 'Unfair Die']\n",
    "values = [Scenario2_fair_freq, Scenario2_unfair_freq]\n",
    "\n",
    "plt.bar(labels, values, color=['blue', 'red'])\n",
    "plt.ylabel('Frequency of Jackpot')\n",
    "plt.title('Die Type vs Frequency of Jackpot')\n",
    "plt.show()\n"
   ]
  },
  {
   "cell_type": "markdown",
   "id": "9f04e9be-8fcf-4ea4-a391-6614608285f8",
   "metadata": {},
   "source": [
    "## Scenario 3: Letters of the Alphabet (7)\n",
    "\n",
    "Task 1. Create a \"die\" of letters from $A$ to $Z$ with weights based on their frequency of usage as found in the data file `english_letters.txt`. Use the frequencies (i.e. raw counts) as weights.\n",
    "\n",
    "- Die correctly instantiated with source file data (1).\n",
    "- Weights properly applied using weight setting method (1)."
   ]
  },
  {
   "cell_type": "code",
   "execution_count": 73,
   "id": "b0ceb771-3cdf-4d8f-8c2c-020806bbb909",
   "metadata": {},
   "outputs": [
    {
     "data": {
      "text/html": [
       "<div>\n",
       "<style scoped>\n",
       "    .dataframe tbody tr th:only-of-type {\n",
       "        vertical-align: middle;\n",
       "    }\n",
       "\n",
       "    .dataframe tbody tr th {\n",
       "        vertical-align: top;\n",
       "    }\n",
       "\n",
       "    .dataframe thead th {\n",
       "        text-align: right;\n",
       "    }\n",
       "</style>\n",
       "<table border=\"1\" class=\"dataframe\">\n",
       "  <thead>\n",
       "    <tr style=\"text-align: right;\">\n",
       "      <th></th>\n",
       "      <th>weight</th>\n",
       "    </tr>\n",
       "  </thead>\n",
       "  <tbody>\n",
       "    <tr>\n",
       "      <th>E</th>\n",
       "      <td>529117365.0</td>\n",
       "    </tr>\n",
       "    <tr>\n",
       "      <th>T</th>\n",
       "      <td>390965105.0</td>\n",
       "    </tr>\n",
       "    <tr>\n",
       "      <th>A</th>\n",
       "      <td>374061888.0</td>\n",
       "    </tr>\n",
       "    <tr>\n",
       "      <th>O</th>\n",
       "      <td>326627740.0</td>\n",
       "    </tr>\n",
       "    <tr>\n",
       "      <th>I</th>\n",
       "      <td>320410057.0</td>\n",
       "    </tr>\n",
       "    <tr>\n",
       "      <th>N</th>\n",
       "      <td>313720540.0</td>\n",
       "    </tr>\n",
       "    <tr>\n",
       "      <th>S</th>\n",
       "      <td>294300210.0</td>\n",
       "    </tr>\n",
       "    <tr>\n",
       "      <th>R</th>\n",
       "      <td>277000841.0</td>\n",
       "    </tr>\n",
       "    <tr>\n",
       "      <th>H</th>\n",
       "      <td>216768975.0</td>\n",
       "    </tr>\n",
       "    <tr>\n",
       "      <th>L</th>\n",
       "      <td>183996130.0</td>\n",
       "    </tr>\n",
       "    <tr>\n",
       "      <th>D</th>\n",
       "      <td>169330528.0</td>\n",
       "    </tr>\n",
       "    <tr>\n",
       "      <th>C</th>\n",
       "      <td>138416451.0</td>\n",
       "    </tr>\n",
       "    <tr>\n",
       "      <th>U</th>\n",
       "      <td>117295780.0</td>\n",
       "    </tr>\n",
       "    <tr>\n",
       "      <th>M</th>\n",
       "      <td>110504544.0</td>\n",
       "    </tr>\n",
       "    <tr>\n",
       "      <th>F</th>\n",
       "      <td>95422055.0</td>\n",
       "    </tr>\n",
       "    <tr>\n",
       "      <th>G</th>\n",
       "      <td>91258980.0</td>\n",
       "    </tr>\n",
       "    <tr>\n",
       "      <th>P</th>\n",
       "      <td>90376747.0</td>\n",
       "    </tr>\n",
       "    <tr>\n",
       "      <th>W</th>\n",
       "      <td>79843664.0</td>\n",
       "    </tr>\n",
       "    <tr>\n",
       "      <th>Y</th>\n",
       "      <td>75294515.0</td>\n",
       "    </tr>\n",
       "    <tr>\n",
       "      <th>B</th>\n",
       "      <td>70195826.0</td>\n",
       "    </tr>\n",
       "    <tr>\n",
       "      <th>V</th>\n",
       "      <td>46337161.0</td>\n",
       "    </tr>\n",
       "    <tr>\n",
       "      <th>K</th>\n",
       "      <td>35373464.0</td>\n",
       "    </tr>\n",
       "    <tr>\n",
       "      <th>J</th>\n",
       "      <td>9613410.0</td>\n",
       "    </tr>\n",
       "    <tr>\n",
       "      <th>X</th>\n",
       "      <td>8369915.0</td>\n",
       "    </tr>\n",
       "    <tr>\n",
       "      <th>Z</th>\n",
       "      <td>4975847.0</td>\n",
       "    </tr>\n",
       "    <tr>\n",
       "      <th>Q</th>\n",
       "      <td>4550166.0</td>\n",
       "    </tr>\n",
       "  </tbody>\n",
       "</table>\n",
       "</div>"
      ],
      "text/plain": [
       "        weight\n",
       "E  529117365.0\n",
       "T  390965105.0\n",
       "A  374061888.0\n",
       "O  326627740.0\n",
       "I  320410057.0\n",
       "N  313720540.0\n",
       "S  294300210.0\n",
       "R  277000841.0\n",
       "H  216768975.0\n",
       "L  183996130.0\n",
       "D  169330528.0\n",
       "C  138416451.0\n",
       "U  117295780.0\n",
       "M  110504544.0\n",
       "F   95422055.0\n",
       "G   91258980.0\n",
       "P   90376747.0\n",
       "W   79843664.0\n",
       "Y   75294515.0\n",
       "B   70195826.0\n",
       "V   46337161.0\n",
       "K   35373464.0\n",
       "J    9613410.0\n",
       "X    8369915.0\n",
       "Z    4975847.0\n",
       "Q    4550166.0"
      ]
     },
     "execution_count": 73,
     "metadata": {},
     "output_type": "execute_result"
    }
   ],
   "source": [
    "import pandas as pd\n",
    "\n",
    "english_letters = pd.read_csv(\"english_letters.txt\",header=None)\n",
    "\n",
    "english_letters[['Letter','Weight']] = english_letters.iloc[0:,0].str.split(' ',n=1,expand=True)\n",
    "\n",
    "\n",
    "letter_die = Die(np.array(english_letters['Letter']))\n",
    "\n",
    "for i, row in english_letters.iterrows():\n",
    "    letter_die.change_weight_one_side(row['Letter'],row['Weight'])\n",
    "    \n",
    "    \n",
    "letter_die.current_state()"
   ]
  },
  {
   "cell_type": "markdown",
   "id": "88e2e14a-6223-470a-a2c8-bca1120d7a5b",
   "metadata": {},
   "source": [
    "Task 2. Play a game involving $4$ of these dice with $1000$ rolls.\n",
    "\n",
    "- Game play method properly called (1)."
   ]
  },
  {
   "cell_type": "code",
   "execution_count": 79,
   "id": "2ae087cc-936d-4f1e-bddb-a7c179d139e0",
   "metadata": {},
   "outputs": [
    {
     "data": {
      "text/html": [
       "<div>\n",
       "<style scoped>\n",
       "    .dataframe tbody tr th:only-of-type {\n",
       "        vertical-align: middle;\n",
       "    }\n",
       "\n",
       "    .dataframe tbody tr th {\n",
       "        vertical-align: top;\n",
       "    }\n",
       "\n",
       "    .dataframe thead th {\n",
       "        text-align: right;\n",
       "    }\n",
       "</style>\n",
       "<table border=\"1\" class=\"dataframe\">\n",
       "  <thead>\n",
       "    <tr style=\"text-align: right;\">\n",
       "      <th></th>\n",
       "      <th>0</th>\n",
       "      <th>1</th>\n",
       "      <th>2</th>\n",
       "      <th>3</th>\n",
       "    </tr>\n",
       "    <tr>\n",
       "      <th>Roll Number</th>\n",
       "      <th></th>\n",
       "      <th></th>\n",
       "      <th></th>\n",
       "      <th></th>\n",
       "    </tr>\n",
       "  </thead>\n",
       "  <tbody>\n",
       "    <tr>\n",
       "      <th>0</th>\n",
       "      <td>K</td>\n",
       "      <td>M</td>\n",
       "      <td>W</td>\n",
       "      <td>A</td>\n",
       "    </tr>\n",
       "    <tr>\n",
       "      <th>1</th>\n",
       "      <td>M</td>\n",
       "      <td>I</td>\n",
       "      <td>T</td>\n",
       "      <td>V</td>\n",
       "    </tr>\n",
       "    <tr>\n",
       "      <th>2</th>\n",
       "      <td>A</td>\n",
       "      <td>H</td>\n",
       "      <td>N</td>\n",
       "      <td>T</td>\n",
       "    </tr>\n",
       "    <tr>\n",
       "      <th>3</th>\n",
       "      <td>T</td>\n",
       "      <td>S</td>\n",
       "      <td>O</td>\n",
       "      <td>H</td>\n",
       "    </tr>\n",
       "    <tr>\n",
       "      <th>4</th>\n",
       "      <td>A</td>\n",
       "      <td>S</td>\n",
       "      <td>E</td>\n",
       "      <td>R</td>\n",
       "    </tr>\n",
       "    <tr>\n",
       "      <th>...</th>\n",
       "      <td>...</td>\n",
       "      <td>...</td>\n",
       "      <td>...</td>\n",
       "      <td>...</td>\n",
       "    </tr>\n",
       "    <tr>\n",
       "      <th>995</th>\n",
       "      <td>E</td>\n",
       "      <td>R</td>\n",
       "      <td>I</td>\n",
       "      <td>I</td>\n",
       "    </tr>\n",
       "    <tr>\n",
       "      <th>996</th>\n",
       "      <td>I</td>\n",
       "      <td>T</td>\n",
       "      <td>M</td>\n",
       "      <td>M</td>\n",
       "    </tr>\n",
       "    <tr>\n",
       "      <th>997</th>\n",
       "      <td>E</td>\n",
       "      <td>G</td>\n",
       "      <td>Y</td>\n",
       "      <td>A</td>\n",
       "    </tr>\n",
       "    <tr>\n",
       "      <th>998</th>\n",
       "      <td>D</td>\n",
       "      <td>S</td>\n",
       "      <td>U</td>\n",
       "      <td>T</td>\n",
       "    </tr>\n",
       "    <tr>\n",
       "      <th>999</th>\n",
       "      <td>F</td>\n",
       "      <td>K</td>\n",
       "      <td>Y</td>\n",
       "      <td>H</td>\n",
       "    </tr>\n",
       "  </tbody>\n",
       "</table>\n",
       "<p>1000 rows × 4 columns</p>\n",
       "</div>"
      ],
      "text/plain": [
       "             0  1  2  3\n",
       "Roll Number            \n",
       "0            K  M  W  A\n",
       "1            M  I  T  V\n",
       "2            A  H  N  T\n",
       "3            T  S  O  H\n",
       "4            A  S  E  R\n",
       "...         .. .. .. ..\n",
       "995          E  R  I  I\n",
       "996          I  T  M  M\n",
       "997          E  G  Y  A\n",
       "998          D  S  U  T\n",
       "999          F  K  Y  H\n",
       "\n",
       "[1000 rows x 4 columns]"
      ]
     },
     "execution_count": 79,
     "metadata": {},
     "output_type": "execute_result"
    }
   ],
   "source": [
    "letter_game = Game([letter_die for i in range(4)])\n",
    "Game.play(letter_game,1000) \n",
    "\n",
    "letter_game.show_results()"
   ]
  },
  {
   "cell_type": "markdown",
   "id": "3b9ff800-bf1f-4f66-9d7f-ff57a648e9f0",
   "metadata": {},
   "source": [
    "Task 3. Determine how many permutations in your results are actual English words, based on the vocabulary found in `scrabble_words.txt`.\n",
    "\n",
    "- Use permutation method (1).\n",
    "- Get count as difference between permutations and vocabulary (1)."
   ]
  },
  {
   "cell_type": "code",
   "execution_count": 163,
   "id": "ed1c7fa0-cfa3-4cf4-9fd0-9f84b86b0f64",
   "metadata": {},
   "outputs": [
    {
     "name": "stdout",
     "output_type": "stream",
     "text": [
      "There were 52 real words found in the game run\n",
      "The difference between permutations and total Scrabble words is 279444\n"
     ]
    }
   ],
   "source": [
    "#Get all permutations from Game \n",
    "letter_analyzer = Analyzer(letter_game)\n",
    "words = letter_analyzer.permutation_count()\n",
    "\n",
    "#Clean dataframe to have permutations in same format as scrabble words \n",
    "words['Permutations'] = words.index\n",
    "words.reset_index(drop=True, inplace=True)\n",
    "words['Permutations'] = words['Permutations'].apply(lambda x: ''.join(x))\n",
    "\n",
    "\n",
    "scrabble_words = list(pd.read_csv(\"scrabble_words.txt\",header=None).iloc[:,0])\n",
    "total_scrabble_words = len(scrabble_words) \n",
    "\n",
    "number_of_real_words_found = len(words[words['Permutations'].isin(scrabble_words)])\n",
    "\n",
    "print(\"There were \" + str(number_of_real_words_found) + \" real words found in the game run\")\n",
    "\n",
    "print(\"The difference between permutations and total Scrabble words is \" + str(int(total_scrabble_words) - int(number_of_real_words_found)))\n",
    "\n"
   ]
  },
  {
   "cell_type": "markdown",
   "id": "fcf068cf-381a-4b3e-ac3a-0510eb4dbdb0",
   "metadata": {},
   "source": [
    "Task 4. Repeat steps #2 and #3, this time with $5$ dice. How many actual words does this produce? Which produces more?\n",
    "\n",
    "- Successfully repreats steps (1).\n",
    "- Identifies parameter with most found words (1)."
   ]
  },
  {
   "cell_type": "code",
   "execution_count": 195,
   "id": "368c1e78-0349-4218-b861-f0bd5df3e579",
   "metadata": {
    "tags": []
   },
   "outputs": [
    {
     "name": "stdout",
     "output_type": "stream",
     "text": [
      "There were 10 real words found in the game run\n",
      "The difference between permutations and total Scrabble words is 279486\n"
     ]
    }
   ],
   "source": [
    "letter_game_t4 = Game([letter_die for i in range(5)])\n",
    "Game.play(letter_game_t4,1000) \n",
    "\n",
    "letter_analyzer_t4 = Analyzer(letter_game_t4)\n",
    "words_t4 = letter_analyzer_t4.permutation_count()\n",
    "\n",
    "#Clean dataframe to have permutations in same format as scrabble words \n",
    "words_t4['Permutations'] = words_t4.index\n",
    "words_t4.reset_index(drop=True, inplace=True)\n",
    "words_t4['Permutations'] = words_t4['Permutations'].apply(lambda x: ''.join(x))\n",
    "\n",
    "number_of_real_words_found_t4 = len(words_t4[words_t4['Permutations'].isin(scrabble_words)])\n",
    "\n",
    "print(\"There were \" + str(number_of_real_words_found_t4) + \" real words found in the game run\")\n",
    "\n",
    "print(\"The difference between permutations and total Scrabble words is \" + str(int(total_scrabble_words) - int(number_of_real_words_found_t4)))\n",
    "\n"
   ]
  }
 ],
 "metadata": {
  "kernelspec": {
   "display_name": "Python 3 (ipykernel)",
   "language": "python",
   "name": "python3"
  },
  "language_info": {
   "codemirror_mode": {
    "name": "ipython",
    "version": 3
   },
   "file_extension": ".py",
   "mimetype": "text/x-python",
   "name": "python",
   "nbconvert_exporter": "python",
   "pygments_lexer": "ipython3",
   "version": "3.11.4"
  },
  "toc-autonumbering": true,
  "widgets": {
   "application/vnd.jupyter.widget-state+json": {
    "state": {},
    "version_major": 2,
    "version_minor": 0
   }
  }
 },
 "nbformat": 4,
 "nbformat_minor": 5
}
